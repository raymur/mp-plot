{
 "cells": [
  {
   "cell_type": "code",
   "execution_count": 113,
   "id": "6bf6e10a-448e-4c23-8087-dbfdd31a9a6b",
   "metadata": {},
   "outputs": [
    {
     "name": "stdout",
     "output_type": "stream",
     "text": [
      "Using matplotlib backend: module://matplotlib_inline.backend_inline\n"
     ]
    }
   ],
   "source": [
    "%matplotlib\n",
    "import matplotlib.pyplot as plt\n",
    "import pandas as pd\n",
    "import numpy \n",
    "\n",
    "FILENAME = 'ticks.csv'\n",
    "df = pd.read_csv(FILENAME)\n"
   ]
  },
  {
   "cell_type": "code",
   "execution_count": 101,
   "id": "a82d08da-795a-489c-8144-ae8ac6739ec9",
   "metadata": {},
   "outputs": [],
   "source": [
    "## JUPYTER NOTES\n",
    "# df[ df['Route Type'].str.contains('^TR')] # Filter by regex\n",
    "# route_types = df['Route Type'].unique() # get unique col values\n",
    "# df.loc[df['Route Type'].str.contains('Trad') & (df['Rating Code'].between(0, 1500))] # multiple filters (Trad routes & grade)"
   ]
  },
  {
   "cell_type": "code",
   "execution_count": 114,
   "id": "0b0a31bd-008b-4cbc-ad9c-7a37365e5a12",
   "metadata": {},
   "outputs": [
    {
     "data": {
      "text/html": [
       "<div>\n",
       "<style scoped>\n",
       "    .dataframe tbody tr th:only-of-type {\n",
       "        vertical-align: middle;\n",
       "    }\n",
       "\n",
       "    .dataframe tbody tr th {\n",
       "        vertical-align: top;\n",
       "    }\n",
       "\n",
       "    .dataframe thead th {\n",
       "        text-align: right;\n",
       "    }\n",
       "</style>\n",
       "<table border=\"1\" class=\"dataframe\">\n",
       "  <thead>\n",
       "    <tr style=\"text-align: right;\">\n",
       "      <th></th>\n",
       "      <th>Date</th>\n",
       "      <th>Rating Code</th>\n",
       "      <th>Route Type</th>\n",
       "      <th>Pitches</th>\n",
       "      <th>Style</th>\n",
       "    </tr>\n",
       "  </thead>\n",
       "  <tbody>\n",
       "    <tr>\n",
       "      <th>728</th>\n",
       "      <td>2020-09-04</td>\n",
       "      <td>1800</td>\n",
       "      <td>Sport</td>\n",
       "      <td>1</td>\n",
       "      <td>Lead</td>\n",
       "    </tr>\n",
       "    <tr>\n",
       "      <th>727</th>\n",
       "      <td>2020-09-05</td>\n",
       "      <td>1600</td>\n",
       "      <td>Sport</td>\n",
       "      <td>1</td>\n",
       "      <td>Lead</td>\n",
       "    </tr>\n",
       "    <tr>\n",
       "      <th>725</th>\n",
       "      <td>2020-09-07</td>\n",
       "      <td>1800</td>\n",
       "      <td>Sport</td>\n",
       "      <td>1</td>\n",
       "      <td>NaN</td>\n",
       "    </tr>\n",
       "    <tr>\n",
       "      <th>726</th>\n",
       "      <td>2020-09-07</td>\n",
       "      <td>1800</td>\n",
       "      <td>Sport</td>\n",
       "      <td>1</td>\n",
       "      <td>Lead</td>\n",
       "    </tr>\n",
       "    <tr>\n",
       "      <th>717</th>\n",
       "      <td>2021-03-27</td>\n",
       "      <td>1600</td>\n",
       "      <td>Sport</td>\n",
       "      <td>1</td>\n",
       "      <td>Lead</td>\n",
       "    </tr>\n",
       "    <tr>\n",
       "      <th>...</th>\n",
       "      <td>...</td>\n",
       "      <td>...</td>\n",
       "      <td>...</td>\n",
       "      <td>...</td>\n",
       "      <td>...</td>\n",
       "    </tr>\n",
       "    <tr>\n",
       "      <th>5</th>\n",
       "      <td>2024-05-26</td>\n",
       "      <td>2900</td>\n",
       "      <td>Sport</td>\n",
       "      <td>1</td>\n",
       "      <td>Lead</td>\n",
       "    </tr>\n",
       "    <tr>\n",
       "      <th>4</th>\n",
       "      <td>2024-05-26</td>\n",
       "      <td>2100</td>\n",
       "      <td>Sport</td>\n",
       "      <td>1</td>\n",
       "      <td>Lead</td>\n",
       "    </tr>\n",
       "    <tr>\n",
       "      <th>3</th>\n",
       "      <td>2024-05-26</td>\n",
       "      <td>3400</td>\n",
       "      <td>Sport</td>\n",
       "      <td>1</td>\n",
       "      <td>Lead</td>\n",
       "    </tr>\n",
       "    <tr>\n",
       "      <th>2</th>\n",
       "      <td>2024-05-26</td>\n",
       "      <td>3400</td>\n",
       "      <td>Sport</td>\n",
       "      <td>1</td>\n",
       "      <td>Lead</td>\n",
       "    </tr>\n",
       "    <tr>\n",
       "      <th>1</th>\n",
       "      <td>2024-05-26</td>\n",
       "      <td>4900</td>\n",
       "      <td>Sport</td>\n",
       "      <td>1</td>\n",
       "      <td>Lead</td>\n",
       "    </tr>\n",
       "  </tbody>\n",
       "</table>\n",
       "<p>455 rows × 5 columns</p>\n",
       "</div>"
      ],
      "text/plain": [
       "           Date  Rating Code Route Type  Pitches Style\n",
       "728  2020-09-04         1800      Sport        1  Lead\n",
       "727  2020-09-05         1600      Sport        1  Lead\n",
       "725  2020-09-07         1800      Sport        1   NaN\n",
       "726  2020-09-07         1800      Sport        1  Lead\n",
       "717  2021-03-27         1600      Sport        1  Lead\n",
       "..          ...          ...        ...      ...   ...\n",
       "5    2024-05-26         2900      Sport        1  Lead\n",
       "4    2024-05-26         2100      Sport        1  Lead\n",
       "3    2024-05-26         3400      Sport        1  Lead\n",
       "2    2024-05-26         3400      Sport        1  Lead\n",
       "1    2024-05-26         4900      Sport        1  Lead\n",
       "\n",
       "[455 rows x 5 columns]"
      ]
     },
     "execution_count": 114,
     "metadata": {},
     "output_type": "execute_result"
    }
   ],
   "source": [
    "style_types = ['Lead', 'Solo', 'Flash', 'Send', numpy.nan]\n",
    "columns = ['Date', 'Rating Code', 'Route Type', 'Pitches', 'Style']\n",
    "df = df.loc[df['Style'].isin(style_types), columns]\n",
    "df = df.loc[df['Route Type'].str.contains('Trad|Sport', regex=True)]\n",
    "df = df.sort_values(by='Date', ascending=True)\n",
    "df"
   ]
  },
  {
   "cell_type": "code",
   "execution_count": 115,
   "id": "637e9808-16af-4c6a-8011-b9231c341a6f",
   "metadata": {},
   "outputs": [
    {
     "data": {
      "image/png": "[encoded data removed]",
      "text/plain": [
       "<Figure size 640x480 with 1 Axes>"
      ]
     },
     "metadata": {},
     "output_type": "display_data"
    }
   ],
   "source": [
    "x = df['Date']\n",
    "y = df['Rating Code']\n",
    "plt.scatter(x, y) \n",
    "plt.show() "
   ]
  },
  {
   "cell_type": "code",
   "execution_count": null,
   "id": "f22b1d5b-68e4-49d8-98b2-606f82923a2f",
   "metadata": {},
   "outputs": [],
   "source": []
  }
 ],
 "metadata": {
  "kernelspec": {
   "display_name": "Python 3 (ipykernel)",
   "language": "python",
   "name": "python3"
  },
  "language_info": {
   "codemirror_mode": {
    "name": "ipython",
    "version": 3
   },
   "file_extension": ".py",
   "mimetype": "text/x-python",
   "name": "python",
   "nbconvert_exporter": "python",
   "pygments_lexer": "ipython3",
   "version": "3.10.12"
  }
 },
 "nbformat": 4,
 "nbformat_minor": 5
}
